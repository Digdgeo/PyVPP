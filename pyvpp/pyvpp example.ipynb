{
 "cells": [
  {
   "cell_type": "markdown",
   "id": "6dd6ccb4",
   "metadata": {},
   "source": [
    "# PyVPP python library to download Phenological data from Wekeo"
   ]
  },
  {
   "cell_type": "markdown",
   "id": "846ad982",
   "metadata": {},
   "source": [
    "In the next code cell we'll install the library. Uncomment and run it once to install the package and then comment it again or just remove the cell"
   ]
  },
  {
   "cell_type": "code",
   "execution_count": null,
   "id": "9caebfca",
   "metadata": {
    "scrolled": true
   },
   "outputs": [],
   "source": [
    "#!pip install pyvpp"
   ]
  },
  {
   "cell_type": "markdown",
   "id": "21c654d9",
   "metadata": {},
   "source": [
    "After the package and all the dependecies are installed we can start using it. First we import all from the package"
   ]
  },
  {
   "cell_type": "code",
   "execution_count": 1,
   "id": "49769b3e",
   "metadata": {},
   "outputs": [],
   "source": [
    "from pyvpp import *"
   ]
  },
  {
   "cell_type": "markdown",
   "id": "8e342e42",
   "metadata": {},
   "source": [
    "With the above sentence we are importing the python class to download from Wekeo (wekeo_download) and 2 small functions to deal with the .hdarc config file (fillHda and delHdaInfo). The fillHda(\"user, \"password\" is used to create or rewrite the .hdarc config file used by wekeo-hda library with your user account data. The delHdaInfo() just remove your account information from the file. This is helpful just in shared enviroments such as the Datalab, where maybe you don't want to keep your secrets. In case you run this from your personal computer, just create your .hdarc files (manually or just running fillHda(\"user\", \"pass\") the first time and forget about these functions.  "
   ]
  },
  {
   "cell_type": "markdown",
   "id": "b8175900",
   "metadata": {},
   "source": [
    "Just in case you want to create/rewrite the .hdarc file, uncomment the down line and run it before start with the downloading"
   ]
  },
  {
   "cell_type": "code",
   "execution_count": null,
   "id": "52b5681d",
   "metadata": {},
   "outputs": [],
   "source": [
    "#fillHda(\"myusername\", \"mypassword\")"
   ]
  },
  {
   "cell_type": "markdown",
   "id": "41ead34d",
   "metadata": {},
   "source": [
    "Now we could create an instance of the wekeo_download class. Notice that we have to choose in this order:\n",
    "\n",
    "- Dataset\n",
    "    - VPP_Pheno for phenometrics\n",
    "    - VPP_Index for vegetation indexes\n",
    "    \n",
    "- Shape or deims ID (just type the path to your local shapefile or insert the deims id (keep the \"deimsid:\" beforethe id)\n",
    "- Start and End date to search the data\n",
    "- Selected variables\n",
    "\n",
    "Example: myinstance = wekeo_download(Dataset, deimsid, [start date, end date], [Variables])"
   ]
  },
  {
   "cell_type": "code",
   "execution_count": null,
   "id": "7ff9f10f",
   "metadata": {},
   "outputs": [],
   "source": [
    "a = wekeo_download('VPP_Pheno', \"deimsid:https://deims.org/45722713-80e3-4387-a47b-82c97a6ef62b\", ['2019-01-01', '2019-12-31'], ['EOSD'])"
   ]
  },
  {
   "cell_type": "markdown",
   "id": "948d98c2",
   "metadata": {},
   "source": [
    "In the upper cell we have created an instance to look for Phenometrics ([\"EOSD\"], but you could add several at the same time) for the site \"LTSER-Sabor - Portugal\" (deims id) for the year 2019. "
   ]
  },
  {
   "cell_type": "markdown",
   "id": "9410d004",
   "metadata": {},
   "source": [
    "Now we could just run it with"
   ]
  },
  {
   "cell_type": "code",
   "execution_count": null,
   "id": "a45d4dcf",
   "metadata": {},
   "outputs": [],
   "source": [
    "a.run()"
   ]
  },
  {
   "cell_type": "markdown",
   "id": "a82441ee",
   "metadata": {},
   "source": [
    "The upper cell will run the whole process, this means that it going to search and ownload all the Sentinel 2 tiles that intersect the boundaries of your site/shapefile, mosaic them if need it and crop the mosaic with the boundaries. \n",
    "\n",
    "There is also the possibility of running once by once:\n",
    "\n",
    "- a.download() \n",
    "<br>This will download and keep in your PC the whole Sentinel 2 tiles\n",
    "\n",
    "- a.mosaic() \n",
    "<br>This will mosaic and crop the S2 tiles with your site boundaries\n",
    "\n",
    "- a.clean()\n",
    "<br>This will delete the S2 tiles and the pre-cropped mosaic from your PC"
   ]
  },
  {
   "cell_type": "markdown",
   "id": "de7aa6ef",
   "metadata": {},
   "source": [
    "If everything goes fine, you will have a /pyhda folder in your ~/home directory with the geoTiff cropped mosaic inside"
   ]
  }
 ],
 "metadata": {
  "hide_input": false,
  "kernelspec": {
   "display_name": "Python 3",
   "language": "python",
   "name": "python3"
  },
  "language_info": {
   "codemirror_mode": {
    "name": "ipython",
    "version": 3
   },
   "file_extension": ".py",
   "mimetype": "text/x-python",
   "name": "python",
   "nbconvert_exporter": "python",
   "pygments_lexer": "ipython3",
   "version": "3.9.4"
  },
  "toc": {
   "base_numbering": 1,
   "nav_menu": {},
   "number_sections": true,
   "sideBar": true,
   "skip_h1_title": false,
   "title_cell": "Table of Contents",
   "title_sidebar": "Contents",
   "toc_cell": false,
   "toc_position": {},
   "toc_section_display": true,
   "toc_window_display": false
  }
 },
 "nbformat": 4,
 "nbformat_minor": 5
}
